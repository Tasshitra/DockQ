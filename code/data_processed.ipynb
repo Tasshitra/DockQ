{
  "cells": [
    {
      "cell_type": "code",
      "execution_count": 39,
      "metadata": {
        "id": "nXzGqzXjgn_s",
        "outputId": "445c37f5-da28-4915-8c30-31e000786894",
        "colab": {
          "base_uri": "https://localhost:8080/",
          "height": 384
        }
      },
      "outputs": [
        {
          "output_type": "error",
          "ename": "ModuleNotFoundError",
          "evalue": "ignored",
          "traceback": [
            "\u001b[0;31m---------------------------------------------------------------------------\u001b[0m",
            "\u001b[0;31mModuleNotFoundError\u001b[0m                       Traceback (most recent call last)",
            "\u001b[0;32m<ipython-input-39-53f13e8d4064>\u001b[0m in \u001b[0;36m<cell line: 6>\u001b[0;34m()\u001b[0m\n\u001b[1;32m      4\u001b[0m \u001b[0;32mimport\u001b[0m \u001b[0mmol2graph\u001b[0m \u001b[0;32mas\u001b[0m \u001b[0mmg\u001b[0m\u001b[0;34m\u001b[0m\u001b[0;34m\u001b[0m\u001b[0m\n\u001b[1;32m      5\u001b[0m \u001b[0;32mimport\u001b[0m \u001b[0mshutil\u001b[0m\u001b[0;34m\u001b[0m\u001b[0;34m\u001b[0m\u001b[0m\n\u001b[0;32m----> 6\u001b[0;31m \u001b[0;32mfrom\u001b[0m \u001b[0mrdkit\u001b[0m \u001b[0;32mimport\u001b[0m \u001b[0mChem\u001b[0m\u001b[0;34m\u001b[0m\u001b[0;34m\u001b[0m\u001b[0m\n\u001b[0m\u001b[1;32m      7\u001b[0m \u001b[0;32mfrom\u001b[0m \u001b[0mmol2vec\u001b[0m\u001b[0;34m.\u001b[0m\u001b[0mfeatures\u001b[0m \u001b[0;32mimport\u001b[0m \u001b[0mmol2alt_sentence\u001b[0m\u001b[0;34m,\u001b[0m \u001b[0mMolSentence\u001b[0m\u001b[0;34m\u001b[0m\u001b[0;34m\u001b[0m\u001b[0m\n\u001b[1;32m      8\u001b[0m \u001b[0;32mfrom\u001b[0m \u001b[0mgensim\u001b[0m\u001b[0;34m.\u001b[0m\u001b[0mmodels\u001b[0m \u001b[0;32mimport\u001b[0m \u001b[0mword2vec\u001b[0m\u001b[0;34m\u001b[0m\u001b[0;34m\u001b[0m\u001b[0m\n",
            "\u001b[0;31mModuleNotFoundError\u001b[0m: No module named 'rdkit'",
            "",
            "\u001b[0;31m---------------------------------------------------------------------------\u001b[0;32m\nNOTE: If your import is failing due to a missing package, you can\nmanually install dependencies using either !pip or !apt.\n\nTo view examples of installing some common dependencies, click the\n\"Open Examples\" button below.\n\u001b[0;31m---------------------------------------------------------------------------\u001b[0m\n"
          ],
          "errorDetails": {
            "actions": [
              {
                "action": "open_url",
                "actionText": "Open Examples",
                "url": "/notebooks/snippets/importing_libraries.ipynb"
              }
            ]
          }
        }
      ],
      "source": [
        "import os\n",
        "import numpy as np\n",
        "import pandas as pd\n",
        "import mol2graph as mg\n",
        "import shutil\n",
        "from rdkit import Chem\n",
        "from mol2vec.features import mol2alt_sentence, MolSentence\n",
        "from gensim.models import word2vec\n",
        "import json\n",
        "import pickle\n",
        "import math\n",
        "import collections\n",
        "from collections import OrderedDict\n",
        "import sys"
      ]
    },
    {
      "cell_type": "code",
      "source": [
        "%pip conda install -c conda-forge rdkit"
      ],
      "metadata": {
        "id": "_gFMkidjqb7q",
        "outputId": "e4640abf-ae80-45f7-d40f-dde6ec92c733",
        "colab": {
          "base_uri": "https://localhost:8080/"
        }
      },
      "execution_count": 43,
      "outputs": [
        {
          "output_type": "stream",
          "name": "stdout",
          "text": [
            "ERROR: unknown command \"conda\"\n"
          ]
        }
      ]
    },
    {
      "cell_type": "code",
      "source": [
        "predict.py -model /content/StackCPA/saved_model/davis_save_model -data data/*.npy"
      ],
      "metadata": {
        "id": "-cLw5HcYnSMJ",
        "outputId": "77395973-a9be-4174-dc6e-5a31b1ff5227",
        "colab": {
          "base_uri": "https://localhost:8080/",
          "height": 141
        }
      },
      "execution_count": 40,
      "outputs": [
        {
          "output_type": "error",
          "ename": "SyntaxError",
          "evalue": "ignored",
          "traceback": [
            "\u001b[0;36m  File \u001b[0;32m\"<ipython-input-40-c51ca4be915a>\"\u001b[0;36m, line \u001b[0;32m1\u001b[0m\n\u001b[0;31m    predict.py -model /content/StackCPA/saved_model/davis_save_model -data data/*.npy\u001b[0m\n\u001b[0m                                                                           ^\u001b[0m\n\u001b[0;31mSyntaxError\u001b[0m\u001b[0;31m:\u001b[0m invalid syntax\n"
          ]
        }
      ]
    },
    {
      "cell_type": "code",
      "source": [
        "!wget https://repo.anaconda.com/miniconda/Miniconda3-latest-Linux-x86_64.sh"
      ],
      "metadata": {
        "id": "N2oRvrn1klM8",
        "outputId": "9b0e5cd8-ca04-4864-8036-cdcf481da14f",
        "colab": {
          "base_uri": "https://localhost:8080/"
        }
      },
      "execution_count": 26,
      "outputs": [
        {
          "output_type": "stream",
          "name": "stdout",
          "text": [
            "--2023-11-20 07:15:59--  https://repo.anaconda.com/miniconda/Miniconda3-latest-Linux-x86_64.sh\n",
            "Resolving repo.anaconda.com (repo.anaconda.com)... 104.16.131.3, 104.16.130.3, 2606:4700::6810:8303, ...\n",
            "Connecting to repo.anaconda.com (repo.anaconda.com)|104.16.131.3|:443... connected.\n",
            "HTTP request sent, awaiting response... 200 OK\n",
            "Length: 120986213 (115M) [application/x-sh]\n",
            "Saving to: ‘Miniconda3-latest-Linux-x86_64.sh’\n",
            "\n",
            "Miniconda3-latest-L 100%[===================>] 115.38M   184MB/s    in 0.6s    \n",
            "\n",
            "2023-11-20 07:16:00 (184 MB/s) - ‘Miniconda3-latest-Linux-x86_64.sh’ saved [120986213/120986213]\n",
            "\n"
          ]
        }
      ]
    },
    {
      "cell_type": "code",
      "source": [
        "!chmod +x Miniconda3-latest-Linux-x86_64.sh\n",
        "!bash ./Miniconda3-latest-Linux-x86_64.sh -b -f -p /usr/local\n",
        "import sys\n",
        "sys.path.append('usr/local/lib/python3.7/site-packages/')"
      ],
      "metadata": {
        "id": "xpqN5dROlhiM",
        "outputId": "5df63131-e045-430e-cc8b-a8cce98b966e",
        "colab": {
          "base_uri": "https://localhost:8080/"
        }
      },
      "execution_count": 27,
      "outputs": [
        {
          "output_type": "stream",
          "name": "stdout",
          "text": [
            "PREFIX=/usr/local\n",
            "Unpacking payload ...\n",
            "                                                                                                 \n",
            "Installing base environment...\n",
            "\n",
            "\n",
            "Downloading and Extracting Packages\n",
            "\n",
            "\n",
            "Downloading and Extracting Packages\n",
            "\n",
            "Preparing transaction: - \b\b\\ \b\b| \b\b/ \b\b- \b\bdone\n",
            "Executing transaction: | \b\b/ \b\b- \b\b\\ \b\b| \b\b/ \b\b- \b\b\\ \b\b| \b\b/ \b\b- \b\b\\ \b\b| \b\b/ \b\b- \b\b\\ \b\b| \b\b/ \b\b- \b\b\\ \b\b| \b\b/ \b\b- \b\b\\ \b\b| \b\b/ \b\b- \b\b\\ \b\b| \b\b/ \b\b- \b\b\\ \b\b| \b\b/ \b\b- \b\b\\ \b\b| \b\bdone\n",
            "installation finished.\n",
            "WARNING:\n",
            "    You currently have a PYTHONPATH environment variable set. This may cause\n",
            "    unexpected behavior when running the Python interpreter in Miniconda3.\n",
            "    For best results, please verify that your PYTHONPATH only points to\n",
            "    directories of packages that are compatible with the Python interpreter\n",
            "    in Miniconda3: /usr/local\n"
          ]
        }
      ]
    },
    {
      "cell_type": "code",
      "source": [
        "!conda env create -f /content/StackCPA/enviroment.yml"
      ],
      "metadata": {
        "id": "E92Ysg07j8e2",
        "outputId": "6a8b7b65-f49d-4b83-e4ae-a0f891063d66",
        "colab": {
          "base_uri": "https://localhost:8080/"
        }
      },
      "execution_count": 30,
      "outputs": [
        {
          "output_type": "stream",
          "name": "stdout",
          "text": [
            "Channels:\n",
            " - defaults\n",
            " - conda-forge\n",
            " - openbabel\n",
            " - pytorch-lts\n",
            "Platform: linux-64\n",
            "Collecting package metadata (repodata.json): - \b\b\\ \b\b| \b\b/ \b\b- \b\b\\ \b\b| \b\b/ \b\b- \b\b\\ \b\b| \b\b/ \b\b- \b\b\\ \b\b| \b\b/ \b\b- \b\b\\ \b\b| \b\b/ \b\b- \b\b\\ \b\b| \b\b/ \b\b- \b\b\\ \b\b| \b\b/ \b\b- \b\b\\ \b\b| \b\b/ \b\b- \b\b\\ \b\b| \b\b/ \b\b- \b\b\\ \b\b| \b\b/ \b\b- \b\b\\ \b\b| \b\b/ \b\b- \b\b\\ \b\b| \b\b/ \b\b- \b\b\\ \b\b| \b\b/ \b\b- \b\b\\ \b\b| \b\b/ \b\b- \b\b\\ \b\b| \b\b/ \b\b- \b\b\\ \b\b| \b\b/ \b\b- \b\b\\ \b\b| \b\b/ \b\b- \b\b\\ \b\b| \b\b/ \b\b- \b\b\\ \b\b| \b\b/ \b\b- \b\b\\ \b\b| \b\b/ \b\b- \b\b\\ \b\b| \b\b/ \b\b- \b\b\\ \b\b| \b\b/ \b\b- \b\b\\ \b\b| \b\b/ \b\b- \b\b\\ \b\b| \b\b/ \b\b- \b\b\\ \b\b| \b\b/ \b\b- \b\b\\ \b\b| \b\b/ \b\b- \b\b\\ \b\b| \b\b/ \b\b- \b\b\\ \b\b| \b\b/ \b\b- \b\b\\ \b\b| \b\b/ \b\b- \b\b\\ \b\b| \b\b/ \b\b- \b\b\\ \b\b| \b\b/ \b\b- \b\b\\ \b\b| \b\b/ \b\b- \b\b\\ \b\b| \b\b/ \b\b- \b\b\\ \b\b| \b\b/ \b\b- \b\b\\ \b\b| \b\b/ \b\b- \b\b\\ \b\b| \b\b/ \b\b- \b\b\\ \b\b| \b\b/ \b\b- \b\b\\ \b\b| \b\b/ \b\b- \b\b\\ \b\b| \b\b/ \b\b- \b\b\\ \b\b| \b\b/ \b\b- \b\b\\ \b\b| \b\b/ \b\b- \b\b\\ \b\b| \b\b/ \b\b- \b\b\\ \b\b| \b\b/ \b\b- \b\b\\ \b\b| \b\b/ \b\b- \b\b\\ \b\b| \b\b/ \b\b- \b\b\\ \b\b| \b\b/ \b\b- \b\b\\ \b\b| \b\b/ \b\b- \b\b\\ \b\b| \b\b/ \b\b- \b\b\\ \b\b| \b\b/ \b\b- \b\b\\ \b\b| \b\b/ \b\b- \b\b\\ \b\b| \b\b/ \b\b- \b\b\\ \b\b| \b\b/ \b\b- \b\b\\ \b\b| \b\b/ \b\b- \b\b\\ \b\b| \b\b/ \b\b- \b\b\\ \b\b| \b\b/ \b\b- \b\b\\ \b\b| \b\b/ \b\b- \b\b\\ \b\b| \b\b/ \b\b- \b\b\\ \b\b| \b\b/ \b\b- \b\b\\ \b\bdone\n",
            "Solving environment: / \b\b- \b\b\\ \b\bfailed\n",
            "\n",
            "PackagesNotFoundError: The following packages are not available from current channels:\n",
            "\n",
            "  - conda-forge::catboost==1.0.4\n",
            "  - conda-forge::lightgbm==3.3.2\n",
            "  - conda-forge::numpy==1.21.6\n",
            "  - openbabel::openbabel==2.4.1\n",
            "  - conda-forge::pandas==1.3.5\n",
            "  - conda-forge::python==3.7.11\n",
            "  - pytorch-lts::pytorch==1.10.2\n",
            "  - conda-forge::r-protr==1.6_2\n",
            "  - conda-forge::rdkit==2022.3.5\n",
            "  - conda-forge::scikit-learn==1.0.2\n",
            "  - conda-forge::scipy==1.7.3\n",
            "  - conda-forge::xgboost==1.4.2\n",
            "\n",
            "Current channels:\n",
            "\n",
            "  - https://repo.anaconda.com/pkgs/main/linux-64\n",
            "  - https://repo.anaconda.com/pkgs/r/linux-64\n",
            "  - https://conda.anaconda.org/conda-forge\n",
            "  - https://conda.anaconda.org/conda-forge\n",
            "  - https://conda.anaconda.org/conda-forge\n",
            "  - https://conda.anaconda.org/conda-forge\n",
            "  - https://conda.anaconda.org/conda-forge\n",
            "  - https://conda.anaconda.org/conda-forge\n",
            "  - https://conda.anaconda.org/conda-forge\n",
            "  - https://conda.anaconda.org/conda-forge\n",
            "  - https://conda.anaconda.org/conda-forge\n",
            "  - https://conda.anaconda.org/conda-forge\n",
            "  - https://conda.anaconda.org/openbabel\n",
            "  - https://conda.anaconda.org/pytorch-lts\n",
            "\n",
            "To search for alternate channels that may provide the conda package you're\n",
            "looking for, navigate to\n",
            "\n",
            "    https://anaconda.org\n",
            "\n",
            "and use the search bar at the top of the page.\n",
            "\n",
            "\n"
          ]
        }
      ]
    },
    {
      "cell_type": "code",
      "source": [
        "pip install git+https://github.com/rdkit/rdkit-js"
      ],
      "metadata": {
        "id": "WN1j-FZVjTSF",
        "outputId": "1a24af72-e774-466f-e7cd-6632297cb532",
        "colab": {
          "base_uri": "https://localhost:8080/"
        }
      },
      "execution_count": 36,
      "outputs": [
        {
          "output_type": "stream",
          "name": "stdout",
          "text": [
            "Collecting git+https://github.com/rdkit/rdkit-js\n",
            "  Cloning https://github.com/rdkit/rdkit-js to /tmp/pip-req-build-bmyds46z\n",
            "  Running command git clone --filter=blob:none --quiet https://github.com/rdkit/rdkit-js /tmp/pip-req-build-bmyds46z\n",
            "  Resolved https://github.com/rdkit/rdkit-js to commit 5dc75ebe67c2ea4962b4909c142521dd02aded8f\n",
            "\u001b[31mERROR: git+https://github.com/rdkit/rdkit-js does not appear to be a Python project: neither 'setup.py' nor 'pyproject.toml' found.\u001b[0m\u001b[31m\n",
            "\u001b[0m"
          ]
        }
      ]
    },
    {
      "cell_type": "code",
      "source": [
        "pip install git+https://github.com/samoturk/mol2vec"
      ],
      "metadata": {
        "id": "uDqN3HbkhF9K",
        "outputId": "787333f7-c849-4a0e-c927-a5b56d80edc3",
        "colab": {
          "base_uri": "https://localhost:8080/"
        }
      },
      "execution_count": 7,
      "outputs": [
        {
          "output_type": "stream",
          "name": "stdout",
          "text": [
            "Collecting git+https://github.com/samoturk/mol2vec\n",
            "  Cloning https://github.com/samoturk/mol2vec to /tmp/pip-req-build-aeof55k6\n",
            "  Running command git clone --filter=blob:none --quiet https://github.com/samoturk/mol2vec /tmp/pip-req-build-aeof55k6\n",
            "  Resolved https://github.com/samoturk/mol2vec to commit 850d944d5f48a58e26ed0264332b5741f72555aa\n",
            "  Preparing metadata (setup.py) ... \u001b[?25l\u001b[?25hdone\n",
            "Requirement already satisfied: numpy in /usr/local/lib/python3.10/dist-packages (from mol2vec==0.1) (1.23.5)\n",
            "Requirement already satisfied: gensim in /usr/local/lib/python3.10/dist-packages (from mol2vec==0.1) (4.3.2)\n",
            "Requirement already satisfied: tqdm in /usr/local/lib/python3.10/dist-packages (from mol2vec==0.1) (4.66.1)\n",
            "Requirement already satisfied: joblib in /usr/local/lib/python3.10/dist-packages (from mol2vec==0.1) (1.3.2)\n",
            "Requirement already satisfied: pandas in /usr/local/lib/python3.10/dist-packages (from mol2vec==0.1) (1.5.3)\n",
            "Requirement already satisfied: matplotlib in /usr/local/lib/python3.10/dist-packages (from mol2vec==0.1) (3.7.1)\n",
            "Requirement already satisfied: IPython in /usr/local/lib/python3.10/dist-packages (from mol2vec==0.1) (7.34.0)\n",
            "Requirement already satisfied: seaborn in /usr/local/lib/python3.10/dist-packages (from mol2vec==0.1) (0.12.2)\n",
            "Requirement already satisfied: scipy>=1.7.0 in /usr/local/lib/python3.10/dist-packages (from gensim->mol2vec==0.1) (1.11.3)\n",
            "Requirement already satisfied: smart-open>=1.8.1 in /usr/local/lib/python3.10/dist-packages (from gensim->mol2vec==0.1) (6.4.0)\n",
            "Requirement already satisfied: setuptools>=18.5 in /usr/local/lib/python3.10/dist-packages (from IPython->mol2vec==0.1) (67.7.2)\n",
            "Collecting jedi>=0.16 (from IPython->mol2vec==0.1)\n",
            "  Downloading jedi-0.19.1-py2.py3-none-any.whl (1.6 MB)\n",
            "\u001b[2K     \u001b[90m━━━━━━━━━━━━━━━━━━━━━━━━━━━━━━━━━━━━━━━━\u001b[0m \u001b[32m1.6/1.6 MB\u001b[0m \u001b[31m13.2 MB/s\u001b[0m eta \u001b[36m0:00:00\u001b[0m\n",
            "\u001b[?25hRequirement already satisfied: decorator in /usr/local/lib/python3.10/dist-packages (from IPython->mol2vec==0.1) (4.4.2)\n",
            "Requirement already satisfied: pickleshare in /usr/local/lib/python3.10/dist-packages (from IPython->mol2vec==0.1) (0.7.5)\n",
            "Requirement already satisfied: traitlets>=4.2 in /usr/local/lib/python3.10/dist-packages (from IPython->mol2vec==0.1) (5.7.1)\n",
            "Requirement already satisfied: prompt-toolkit!=3.0.0,!=3.0.1,<3.1.0,>=2.0.0 in /usr/local/lib/python3.10/dist-packages (from IPython->mol2vec==0.1) (3.0.41)\n",
            "Requirement already satisfied: pygments in /usr/local/lib/python3.10/dist-packages (from IPython->mol2vec==0.1) (2.16.1)\n",
            "Requirement already satisfied: backcall in /usr/local/lib/python3.10/dist-packages (from IPython->mol2vec==0.1) (0.2.0)\n",
            "Requirement already satisfied: matplotlib-inline in /usr/local/lib/python3.10/dist-packages (from IPython->mol2vec==0.1) (0.1.6)\n",
            "Requirement already satisfied: pexpect>4.3 in /usr/local/lib/python3.10/dist-packages (from IPython->mol2vec==0.1) (4.8.0)\n",
            "Requirement already satisfied: contourpy>=1.0.1 in /usr/local/lib/python3.10/dist-packages (from matplotlib->mol2vec==0.1) (1.2.0)\n",
            "Requirement already satisfied: cycler>=0.10 in /usr/local/lib/python3.10/dist-packages (from matplotlib->mol2vec==0.1) (0.12.1)\n",
            "Requirement already satisfied: fonttools>=4.22.0 in /usr/local/lib/python3.10/dist-packages (from matplotlib->mol2vec==0.1) (4.44.3)\n",
            "Requirement already satisfied: kiwisolver>=1.0.1 in /usr/local/lib/python3.10/dist-packages (from matplotlib->mol2vec==0.1) (1.4.5)\n",
            "Requirement already satisfied: packaging>=20.0 in /usr/local/lib/python3.10/dist-packages (from matplotlib->mol2vec==0.1) (23.2)\n",
            "Requirement already satisfied: pillow>=6.2.0 in /usr/local/lib/python3.10/dist-packages (from matplotlib->mol2vec==0.1) (9.4.0)\n",
            "Requirement already satisfied: pyparsing>=2.3.1 in /usr/local/lib/python3.10/dist-packages (from matplotlib->mol2vec==0.1) (3.1.1)\n",
            "Requirement already satisfied: python-dateutil>=2.7 in /usr/local/lib/python3.10/dist-packages (from matplotlib->mol2vec==0.1) (2.8.2)\n",
            "Requirement already satisfied: pytz>=2020.1 in /usr/local/lib/python3.10/dist-packages (from pandas->mol2vec==0.1) (2023.3.post1)\n",
            "Requirement already satisfied: parso<0.9.0,>=0.8.3 in /usr/local/lib/python3.10/dist-packages (from jedi>=0.16->IPython->mol2vec==0.1) (0.8.3)\n",
            "Requirement already satisfied: ptyprocess>=0.5 in /usr/local/lib/python3.10/dist-packages (from pexpect>4.3->IPython->mol2vec==0.1) (0.7.0)\n",
            "Requirement already satisfied: wcwidth in /usr/local/lib/python3.10/dist-packages (from prompt-toolkit!=3.0.0,!=3.0.1,<3.1.0,>=2.0.0->IPython->mol2vec==0.1) (0.2.10)\n",
            "Requirement already satisfied: six>=1.5 in /usr/local/lib/python3.10/dist-packages (from python-dateutil>=2.7->matplotlib->mol2vec==0.1) (1.16.0)\n",
            "Building wheels for collected packages: mol2vec\n",
            "  Building wheel for mol2vec (setup.py) ... \u001b[?25l\u001b[?25hdone\n",
            "  Created wheel for mol2vec: filename=mol2vec-0.1-py3-none-any.whl size=14016 sha256=1302a5a423dc1e2827e7b54ec68f6df144f34a111261b567031ea0cd0976d727\n",
            "  Stored in directory: /tmp/pip-ephem-wheel-cache-0binmiot/wheels/b9/bd/e0/b6dd7c5e346247e8d6944e08ca1c262a908231747f4efa539d\n",
            "Successfully built mol2vec\n",
            "Installing collected packages: jedi, mol2vec\n",
            "Successfully installed jedi-0.19.1 mol2vec-0.1\n"
          ]
        }
      ]
    },
    {
      "cell_type": "code",
      "source": [
        "pip install git+https://github.com/benedekrozemberczki/graph2vec.git"
      ],
      "metadata": {
        "id": "EP38nmbghXtK",
        "outputId": "09eb8fd3-c9b6-4f39-8bae-e1468ac53bc5",
        "colab": {
          "base_uri": "https://localhost:8080/"
        }
      },
      "execution_count": 37,
      "outputs": [
        {
          "output_type": "stream",
          "name": "stdout",
          "text": [
            "Collecting git+https://github.com/benedekrozemberczki/graph2vec.git\n",
            "  Cloning https://github.com/benedekrozemberczki/graph2vec.git to /tmp/pip-req-build-itt9qpjz\n",
            "  Running command git clone --filter=blob:none --quiet https://github.com/benedekrozemberczki/graph2vec.git /tmp/pip-req-build-itt9qpjz\n",
            "  Resolved https://github.com/benedekrozemberczki/graph2vec.git to commit 27b998d2a009020eea7ff59802e440a35fef314a\n",
            "\u001b[31mERROR: git+https://github.com/benedekrozemberczki/graph2vec.git does not appear to be a Python project: neither 'setup.py' nor 'pyproject.toml' found.\u001b[0m\u001b[31m\n",
            "\u001b[0m"
          ]
        }
      ]
    },
    {
      "cell_type": "code",
      "source": [
        "pip install git+https://github.com/benedekrozemberczki/karateclub"
      ],
      "metadata": {
        "id": "0gu7HCpaphLH",
        "outputId": "12a51f61-ab8d-40f8-91a1-9e091988bdc2",
        "colab": {
          "base_uri": "https://localhost:8080/",
          "height": 1000
        }
      },
      "execution_count": 41,
      "outputs": [
        {
          "output_type": "stream",
          "name": "stdout",
          "text": [
            "Collecting git+https://github.com/benedekrozemberczki/karateclub\n",
            "  Cloning https://github.com/benedekrozemberczki/karateclub to /tmp/pip-req-build-6u5zmkb0\n",
            "  Running command git clone --filter=blob:none --quiet https://github.com/benedekrozemberczki/karateclub /tmp/pip-req-build-6u5zmkb0\n",
            "  Resolved https://github.com/benedekrozemberczki/karateclub to commit d750b33e8faaeb95ac2ed6d6ed4f0b470bd506ce\n",
            "  Preparing metadata (setup.py) ... \u001b[?25l\u001b[?25hdone\n",
            "Collecting numpy>=1.22.0 (from karateclub==1.3.4)\n",
            "  Downloading numpy-1.26.2-cp311-cp311-manylinux_2_17_x86_64.manylinux2014_x86_64.whl.metadata (61 kB)\n",
            "\u001b[2K     \u001b[90m━━━━━━━━━━━━━━━━━━━━━━━━━━━━━━━━━━━━━━━━\u001b[0m \u001b[32m61.2/61.2 kB\u001b[0m \u001b[31m2.0 MB/s\u001b[0m eta \u001b[36m0:00:00\u001b[0m\n",
            "\u001b[?25hCollecting networkx==2.8.* (from karateclub==1.3.4)\n",
            "  Downloading networkx-2.8.8-py3-none-any.whl (2.0 MB)\n",
            "\u001b[2K     \u001b[90m━━━━━━━━━━━━━━━━━━━━━━━━━━━━━━━━━━━━━━━━\u001b[0m \u001b[32m2.0/2.0 MB\u001b[0m \u001b[31m20.5 MB/s\u001b[0m eta \u001b[36m0:00:00\u001b[0m\n",
            "\u001b[?25hCollecting decorator==5.1.* (from karateclub==1.3.4)\n",
            "  Downloading decorator-5.1.1-py3-none-any.whl (9.1 kB)\n",
            "Collecting pandas>=1.2.0 (from karateclub==1.3.4)\n",
            "  Downloading pandas-2.1.3-cp311-cp311-manylinux_2_17_x86_64.manylinux2014_x86_64.whl.metadata (18 kB)\n",
            "Collecting gensim>=4.0.0 (from karateclub==1.3.4)\n",
            "  Downloading gensim-4.3.2-cp311-cp311-manylinux_2_17_x86_64.manylinux2014_x86_64.whl.metadata (8.3 kB)\n",
            "Requirement already satisfied: tqdm in /usr/local/lib/python3.11/site-packages (from karateclub==1.3.4) (4.65.0)\n",
            "Collecting python-louvain (from karateclub==1.3.4)\n",
            "  Downloading python-louvain-0.16.tar.gz (204 kB)\n",
            "\u001b[2K     \u001b[90m━━━━━━━━━━━━━━━━━━━━━━━━━━━━━━━━━━━━━━━━\u001b[0m \u001b[32m204.6/204.6 kB\u001b[0m \u001b[31m11.4 MB/s\u001b[0m eta \u001b[36m0:00:00\u001b[0m\n",
            "\u001b[?25h  Preparing metadata (setup.py) ... \u001b[?25l\u001b[?25hdone\n",
            "Collecting scikit-learn (from karateclub==1.3.4)\n",
            "  Downloading scikit_learn-1.3.2-cp311-cp311-manylinux_2_17_x86_64.manylinux2014_x86_64.whl.metadata (11 kB)\n",
            "Collecting scipy (from karateclub==1.3.4)\n",
            "  Downloading scipy-1.11.4-cp311-cp311-manylinux_2_17_x86_64.manylinux2014_x86_64.whl.metadata (60 kB)\n",
            "\u001b[2K     \u001b[90m━━━━━━━━━━━━━━━━━━━━━━━━━━━━━━━━━━━━━━━━\u001b[0m \u001b[32m60.4/60.4 kB\u001b[0m \u001b[31m4.4 MB/s\u001b[0m eta \u001b[36m0:00:00\u001b[0m\n",
            "\u001b[?25hCollecting pygsp (from karateclub==1.3.4)\n",
            "  Downloading PyGSP-0.5.1-py2.py3-none-any.whl (1.8 MB)\n",
            "\u001b[2K     \u001b[90m━━━━━━━━━━━━━━━━━━━━━━━━━━━━━━━━━━━━━━━━\u001b[0m \u001b[32m1.8/1.8 MB\u001b[0m \u001b[31m25.9 MB/s\u001b[0m eta \u001b[36m0:00:00\u001b[0m\n",
            "\u001b[?25hCollecting six (from karateclub==1.3.4)\n",
            "  Downloading six-1.16.0-py2.py3-none-any.whl (11 kB)\n",
            "Collecting python-Levenshtein (from karateclub==1.3.4)\n",
            "  Downloading python_Levenshtein-0.23.0-py3-none-any.whl.metadata (3.8 kB)\n",
            "Collecting smart-open>=1.8.1 (from gensim>=4.0.0->karateclub==1.3.4)\n",
            "  Downloading smart_open-6.4.0-py3-none-any.whl.metadata (21 kB)\n",
            "Collecting python-dateutil>=2.8.2 (from pandas>=1.2.0->karateclub==1.3.4)\n",
            "  Downloading python_dateutil-2.8.2-py2.py3-none-any.whl (247 kB)\n",
            "\u001b[2K     \u001b[90m━━━━━━━━━━━━━━━━━━━━━━━━━━━━━━━━━━━━━━━━\u001b[0m \u001b[32m247.7/247.7 kB\u001b[0m \u001b[31m17.6 MB/s\u001b[0m eta \u001b[36m0:00:00\u001b[0m\n",
            "\u001b[?25hCollecting pytz>=2020.1 (from pandas>=1.2.0->karateclub==1.3.4)\n",
            "  Downloading pytz-2023.3.post1-py2.py3-none-any.whl.metadata (22 kB)\n",
            "Collecting tzdata>=2022.1 (from pandas>=1.2.0->karateclub==1.3.4)\n",
            "  Downloading tzdata-2023.3-py2.py3-none-any.whl (341 kB)\n",
            "\u001b[2K     \u001b[90m━━━━━━━━━━━━━━━━━━━━━━━━━━━━━━━━━━━━━━━━\u001b[0m \u001b[32m341.8/341.8 kB\u001b[0m \u001b[31m21.1 MB/s\u001b[0m eta \u001b[36m0:00:00\u001b[0m\n",
            "\u001b[?25hCollecting Levenshtein==0.23.0 (from python-Levenshtein->karateclub==1.3.4)\n",
            "  Downloading Levenshtein-0.23.0-cp311-cp311-manylinux_2_17_x86_64.manylinux2014_x86_64.whl.metadata (3.4 kB)\n",
            "Collecting rapidfuzz<4.0.0,>=3.1.0 (from Levenshtein==0.23.0->python-Levenshtein->karateclub==1.3.4)\n",
            "  Downloading rapidfuzz-3.5.2-cp311-cp311-manylinux_2_17_x86_64.manylinux2014_x86_64.whl.metadata (11 kB)\n",
            "Collecting joblib>=1.1.1 (from scikit-learn->karateclub==1.3.4)\n",
            "  Downloading joblib-1.3.2-py3-none-any.whl.metadata (5.4 kB)\n",
            "Collecting threadpoolctl>=2.0.0 (from scikit-learn->karateclub==1.3.4)\n",
            "  Downloading threadpoolctl-3.2.0-py3-none-any.whl.metadata (10.0 kB)\n",
            "Downloading gensim-4.3.2-cp311-cp311-manylinux_2_17_x86_64.manylinux2014_x86_64.whl (26.7 MB)\n",
            "\u001b[2K   \u001b[90m━━━━━━━━━━━━━━━━━━━━━━━━━━━━━━━━━━━━━━━━\u001b[0m \u001b[32m26.7/26.7 MB\u001b[0m \u001b[31m23.9 MB/s\u001b[0m eta \u001b[36m0:00:00\u001b[0m\n",
            "\u001b[?25hDownloading numpy-1.26.2-cp311-cp311-manylinux_2_17_x86_64.manylinux2014_x86_64.whl (18.2 MB)\n",
            "\u001b[2K   \u001b[90m━━━━━━━━━━━━━━━━━━━━━━━━━━━━━━━━━━━━━━━━\u001b[0m \u001b[32m18.2/18.2 MB\u001b[0m \u001b[31m62.3 MB/s\u001b[0m eta \u001b[36m0:00:00\u001b[0m\n",
            "\u001b[?25hDownloading pandas-2.1.3-cp311-cp311-manylinux_2_17_x86_64.manylinux2014_x86_64.whl (12.2 MB)\n",
            "\u001b[2K   \u001b[90m━━━━━━━━━━━━━━━━━━━━━━━━━━━━━━━━━━━━━━━━\u001b[0m \u001b[32m12.2/12.2 MB\u001b[0m \u001b[31m75.0 MB/s\u001b[0m eta \u001b[36m0:00:00\u001b[0m\n",
            "\u001b[?25hDownloading scipy-1.11.4-cp311-cp311-manylinux_2_17_x86_64.manylinux2014_x86_64.whl (36.4 MB)\n",
            "\u001b[2K   \u001b[90m━━━━━━━━━━━━━━━━━━━━━━━━━━━━━━━━━━━━━━━━\u001b[0m \u001b[32m36.4/36.4 MB\u001b[0m \u001b[31m11.3 MB/s\u001b[0m eta \u001b[36m0:00:00\u001b[0m\n",
            "\u001b[?25hDownloading python_Levenshtein-0.23.0-py3-none-any.whl (9.4 kB)\n",
            "Downloading Levenshtein-0.23.0-cp311-cp311-manylinux_2_17_x86_64.manylinux2014_x86_64.whl (169 kB)\n",
            "\u001b[2K   \u001b[90m━━━━━━━━━━━━━━━━━━━━━━━━━━━━━━━━━━━━━━━━\u001b[0m \u001b[32m169.6/169.6 kB\u001b[0m \u001b[31m10.8 MB/s\u001b[0m eta \u001b[36m0:00:00\u001b[0m\n",
            "\u001b[?25hDownloading scikit_learn-1.3.2-cp311-cp311-manylinux_2_17_x86_64.manylinux2014_x86_64.whl (10.9 MB)\n",
            "\u001b[2K   \u001b[90m━━━━━━━━━━━━━━━━━━━━━━━━━━━━━━━━━━━━━━━━\u001b[0m \u001b[32m10.9/10.9 MB\u001b[0m \u001b[31m58.8 MB/s\u001b[0m eta \u001b[36m0:00:00\u001b[0m\n",
            "\u001b[?25hDownloading joblib-1.3.2-py3-none-any.whl (302 kB)\n",
            "\u001b[2K   \u001b[90m━━━━━━━━━━━━━━━━━━━━━━━━━━━━━━━━━━━━━━━━\u001b[0m \u001b[32m302.2/302.2 kB\u001b[0m \u001b[31m20.7 MB/s\u001b[0m eta \u001b[36m0:00:00\u001b[0m\n",
            "\u001b[?25hDownloading pytz-2023.3.post1-py2.py3-none-any.whl (502 kB)\n",
            "\u001b[2K   \u001b[90m━━━━━━━━━━━━━━━━━━━━━━━━━━━━━━━━━━━━━━━━\u001b[0m \u001b[32m502.5/502.5 kB\u001b[0m \u001b[31m31.3 MB/s\u001b[0m eta \u001b[36m0:00:00\u001b[0m\n",
            "\u001b[?25hDownloading smart_open-6.4.0-py3-none-any.whl (57 kB)\n",
            "\u001b[2K   \u001b[90m━━━━━━━━━━━━━━━━━━━━━━━━━━━━━━━━━━━━━━━━\u001b[0m \u001b[32m57.0/57.0 kB\u001b[0m \u001b[31m4.7 MB/s\u001b[0m eta \u001b[36m0:00:00\u001b[0m\n",
            "\u001b[?25hDownloading threadpoolctl-3.2.0-py3-none-any.whl (15 kB)\n",
            "Downloading rapidfuzz-3.5.2-cp311-cp311-manylinux_2_17_x86_64.manylinux2014_x86_64.whl (3.3 MB)\n",
            "\u001b[2K   \u001b[90m━━━━━━━━━━━━━━━━━━━━━━━━━━━━━━━━━━━━━━━━\u001b[0m \u001b[32m3.3/3.3 MB\u001b[0m \u001b[31m81.2 MB/s\u001b[0m eta \u001b[36m0:00:00\u001b[0m\n",
            "\u001b[?25hBuilding wheels for collected packages: karateclub, python-louvain\n",
            "  Building wheel for karateclub (setup.py) ... \u001b[?25l\u001b[?25hdone\n",
            "  Created wheel for karateclub: filename=karateclub-1.3.4-py3-none-any.whl size=110698 sha256=a38765f4ea3432f548862a736d7ea51376882adecdd7c6d25bf3b5c493438212\n",
            "  Stored in directory: /tmp/pip-ephem-wheel-cache-5oj658nw/wheels/b0/d9/bc/f91b74565c996c9505b5bab34955f5917f899363d9114bc689\n",
            "  Building wheel for python-louvain (setup.py) ... \u001b[?25l\u001b[?25hdone\n",
            "  Created wheel for python-louvain: filename=python_louvain-0.16-py3-none-any.whl size=9389 sha256=6b87c5f48d2c9b06826cd2296a72119e455f83f53e2923470aeed9a67f435a9c\n",
            "  Stored in directory: /root/.cache/pip/wheels/11/c1/e7/f62a211c636275e2da798bf0c307a3ae79aeddaf2524a03ce4\n",
            "Successfully built karateclub python-louvain\n",
            "Installing collected packages: pytz, tzdata, threadpoolctl, smart-open, six, rapidfuzz, numpy, networkx, joblib, decorator, scipy, python-louvain, python-dateutil, Levenshtein, scikit-learn, python-Levenshtein, pygsp, pandas, gensim, karateclub\n",
            "Successfully installed Levenshtein-0.23.0 decorator-5.1.1 gensim-4.3.2 joblib-1.3.2 karateclub-1.3.4 networkx-2.8.8 numpy-1.26.2 pandas-2.1.3 pygsp-0.5.1 python-Levenshtein-0.23.0 python-dateutil-2.8.2 python-louvain-0.16 pytz-2023.3.post1 rapidfuzz-3.5.2 scikit-learn-1.3.2 scipy-1.11.4 six-1.16.0 smart-open-6.4.0 threadpoolctl-3.2.0 tzdata-2023.3\n",
            "\u001b[33mWARNING: Running pip as the 'root' user can result in broken permissions and conflicting behaviour with the system package manager. It is recommended to use a virtual environment instead: https://pip.pypa.io/warnings/venv\u001b[0m\u001b[33m\n",
            "\u001b[0m"
          ]
        },
        {
          "output_type": "display_data",
          "data": {
            "application/vnd.colab-display-data+json": {
              "pip_warning": {
                "packages": [
                  "dateutil",
                  "pytz",
                  "six"
                ]
              }
            }
          },
          "metadata": {}
        }
      ]
    },
    {
      "cell_type": "code",
      "source": [
        "cd StackCPA\n"
      ],
      "metadata": {
        "id": "9YgvQTgug2qx",
        "outputId": "13672aeb-b858-4e73-d934-c28a990fb3c5",
        "colab": {
          "base_uri": "https://localhost:8080/"
        }
      },
      "execution_count": 11,
      "outputs": [
        {
          "output_type": "stream",
          "name": "stdout",
          "text": [
            "/content/StackCPA\n"
          ]
        }
      ]
    },
    {
      "cell_type": "markdown",
      "source": [],
      "metadata": {
        "id": "DKIbzhgniS9F"
      }
    },
    {
      "cell_type": "code",
      "source": [
        "!conda env create -f environment.yml"
      ],
      "metadata": {
        "id": "RiT9JEPJhyEg",
        "outputId": "8d803a2b-445c-419e-d945-fe3d2dea31a8",
        "colab": {
          "base_uri": "https://localhost:8080/"
        }
      },
      "execution_count": 13,
      "outputs": [
        {
          "output_type": "stream",
          "name": "stdout",
          "text": [
            "/bin/bash: line 1: conda: command not found\n"
          ]
        }
      ]
    },
    {
      "cell_type": "code",
      "source": [
        "  cd /content/StackCPA/code\n"
      ],
      "metadata": {
        "id": "ZEC7Uz8kh6pN",
        "outputId": "4367fb39-d6dc-469e-d0e3-6601a957ea40",
        "colab": {
          "base_uri": "https://localhost:8080/"
        }
      },
      "execution_count": 16,
      "outputs": [
        {
          "output_type": "stream",
          "name": "stdout",
          "text": [
            "/content/StackCPA/code\n"
          ]
        }
      ]
    },
    {
      "cell_type": "code",
      "source": [
        "pip install git+https://github.com/samoturk/mol2vec\n"
      ],
      "metadata": {
        "id": "HXUPvqRFiXi9",
        "outputId": "f77c4f89-c842-423e-b5ce-1088b268f530",
        "colab": {
          "base_uri": "https://localhost:8080/"
        }
      },
      "execution_count": 17,
      "outputs": [
        {
          "output_type": "stream",
          "name": "stdout",
          "text": [
            "Collecting git+https://github.com/samoturk/mol2vec\n",
            "  Cloning https://github.com/samoturk/mol2vec to /tmp/pip-req-build-uqnj40k3\n",
            "  Running command git clone --filter=blob:none --quiet https://github.com/samoturk/mol2vec /tmp/pip-req-build-uqnj40k3\n",
            "  Resolved https://github.com/samoturk/mol2vec to commit 850d944d5f48a58e26ed0264332b5741f72555aa\n",
            "  Preparing metadata (setup.py) ... \u001b[?25l\u001b[?25hdone\n",
            "Requirement already satisfied: numpy in /usr/local/lib/python3.10/dist-packages (from mol2vec==0.1) (1.23.5)\n",
            "Requirement already satisfied: gensim in /usr/local/lib/python3.10/dist-packages (from mol2vec==0.1) (4.3.2)\n",
            "Requirement already satisfied: tqdm in /usr/local/lib/python3.10/dist-packages (from mol2vec==0.1) (4.66.1)\n",
            "Requirement already satisfied: joblib in /usr/local/lib/python3.10/dist-packages (from mol2vec==0.1) (1.3.2)\n",
            "Requirement already satisfied: pandas in /usr/local/lib/python3.10/dist-packages (from mol2vec==0.1) (1.5.3)\n",
            "Requirement already satisfied: matplotlib in /usr/local/lib/python3.10/dist-packages (from mol2vec==0.1) (3.7.1)\n",
            "Requirement already satisfied: IPython in /usr/local/lib/python3.10/dist-packages (from mol2vec==0.1) (7.34.0)\n",
            "Requirement already satisfied: seaborn in /usr/local/lib/python3.10/dist-packages (from mol2vec==0.1) (0.12.2)\n",
            "Requirement already satisfied: scipy>=1.7.0 in /usr/local/lib/python3.10/dist-packages (from gensim->mol2vec==0.1) (1.11.3)\n",
            "Requirement already satisfied: smart-open>=1.8.1 in /usr/local/lib/python3.10/dist-packages (from gensim->mol2vec==0.1) (6.4.0)\n",
            "Requirement already satisfied: setuptools>=18.5 in /usr/local/lib/python3.10/dist-packages (from IPython->mol2vec==0.1) (67.7.2)\n",
            "Requirement already satisfied: jedi>=0.16 in /usr/local/lib/python3.10/dist-packages (from IPython->mol2vec==0.1) (0.19.1)\n",
            "Requirement already satisfied: decorator in /usr/local/lib/python3.10/dist-packages (from IPython->mol2vec==0.1) (4.4.2)\n",
            "Requirement already satisfied: pickleshare in /usr/local/lib/python3.10/dist-packages (from IPython->mol2vec==0.1) (0.7.5)\n",
            "Requirement already satisfied: traitlets>=4.2 in /usr/local/lib/python3.10/dist-packages (from IPython->mol2vec==0.1) (5.7.1)\n",
            "Requirement already satisfied: prompt-toolkit!=3.0.0,!=3.0.1,<3.1.0,>=2.0.0 in /usr/local/lib/python3.10/dist-packages (from IPython->mol2vec==0.1) (3.0.41)\n",
            "Requirement already satisfied: pygments in /usr/local/lib/python3.10/dist-packages (from IPython->mol2vec==0.1) (2.16.1)\n",
            "Requirement already satisfied: backcall in /usr/local/lib/python3.10/dist-packages (from IPython->mol2vec==0.1) (0.2.0)\n",
            "Requirement already satisfied: matplotlib-inline in /usr/local/lib/python3.10/dist-packages (from IPython->mol2vec==0.1) (0.1.6)\n",
            "Requirement already satisfied: pexpect>4.3 in /usr/local/lib/python3.10/dist-packages (from IPython->mol2vec==0.1) (4.8.0)\n",
            "Requirement already satisfied: contourpy>=1.0.1 in /usr/local/lib/python3.10/dist-packages (from matplotlib->mol2vec==0.1) (1.2.0)\n",
            "Requirement already satisfied: cycler>=0.10 in /usr/local/lib/python3.10/dist-packages (from matplotlib->mol2vec==0.1) (0.12.1)\n",
            "Requirement already satisfied: fonttools>=4.22.0 in /usr/local/lib/python3.10/dist-packages (from matplotlib->mol2vec==0.1) (4.44.3)\n",
            "Requirement already satisfied: kiwisolver>=1.0.1 in /usr/local/lib/python3.10/dist-packages (from matplotlib->mol2vec==0.1) (1.4.5)\n",
            "Requirement already satisfied: packaging>=20.0 in /usr/local/lib/python3.10/dist-packages (from matplotlib->mol2vec==0.1) (23.2)\n",
            "Requirement already satisfied: pillow>=6.2.0 in /usr/local/lib/python3.10/dist-packages (from matplotlib->mol2vec==0.1) (9.4.0)\n",
            "Requirement already satisfied: pyparsing>=2.3.1 in /usr/local/lib/python3.10/dist-packages (from matplotlib->mol2vec==0.1) (3.1.1)\n",
            "Requirement already satisfied: python-dateutil>=2.7 in /usr/local/lib/python3.10/dist-packages (from matplotlib->mol2vec==0.1) (2.8.2)\n",
            "Requirement already satisfied: pytz>=2020.1 in /usr/local/lib/python3.10/dist-packages (from pandas->mol2vec==0.1) (2023.3.post1)\n",
            "Requirement already satisfied: parso<0.9.0,>=0.8.3 in /usr/local/lib/python3.10/dist-packages (from jedi>=0.16->IPython->mol2vec==0.1) (0.8.3)\n",
            "Requirement already satisfied: ptyprocess>=0.5 in /usr/local/lib/python3.10/dist-packages (from pexpect>4.3->IPython->mol2vec==0.1) (0.7.0)\n",
            "Requirement already satisfied: wcwidth in /usr/local/lib/python3.10/dist-packages (from prompt-toolkit!=3.0.0,!=3.0.1,<3.1.0,>=2.0.0->IPython->mol2vec==0.1) (0.2.10)\n",
            "Requirement already satisfied: six>=1.5 in /usr/local/lib/python3.10/dist-packages (from python-dateutil>=2.7->matplotlib->mol2vec==0.1) (1.16.0)\n"
          ]
        }
      ]
    },
    {
      "cell_type": "code",
      "source": [
        "pip install git+https://github.com/benedekrozemberczki/graph2vec.git"
      ],
      "metadata": {
        "id": "hsZsYeDNihID",
        "outputId": "37899441-2c84-477b-c7c3-8713da8a181f",
        "colab": {
          "base_uri": "https://localhost:8080/"
        }
      },
      "execution_count": 18,
      "outputs": [
        {
          "output_type": "stream",
          "name": "stdout",
          "text": [
            "Collecting git+https://github.com/benedekrozemberczki/graph2vec.git\n",
            "  Cloning https://github.com/benedekrozemberczki/graph2vec.git to /tmp/pip-req-build-m0joubsj\n",
            "  Running command git clone --filter=blob:none --quiet https://github.com/benedekrozemberczki/graph2vec.git /tmp/pip-req-build-m0joubsj\n",
            "  Resolved https://github.com/benedekrozemberczki/graph2vec.git to commit 27b998d2a009020eea7ff59802e440a35fef314a\n",
            "\u001b[31mERROR: git+https://github.com/benedekrozemberczki/graph2vec.git does not appear to be a Python project: neither 'setup.py' nor 'pyproject.toml' found.\u001b[0m\u001b[31m\n",
            "\u001b[0m"
          ]
        }
      ]
    },
    {
      "cell_type": "code",
      "execution_count": null,
      "metadata": {
        "id": "uj8Job3zgn_v"
      },
      "outputs": [],
      "source": [
        "def pdb2seq(pdb_file):\n",
        "    letters = {'ALA': 'A', 'ARG': 'R', 'ASN': 'N', 'ASP': 'D', 'CYS': 'C', 'GLU': 'E', 'GLN': 'Q', 'GLY': 'G', 'HIS': 'H', 'ILE': 'I', 'LEU': 'L', 'LYS': 'K', 'MET': 'M', 'PHE': 'F', 'PRO': 'P', 'SER': 'S', 'THR': 'T', 'TRP': 'W', 'TYR': 'Y', 'VAL': 'V'}\n",
        "    prev = '-1'\n",
        "    res = []\n",
        "    with open(pdb_file) as input_file:\n",
        "        for line in input_file:\n",
        "            if len(line) < 1: continue\n",
        "            if line[0:6].strip() != 'ATOM': continue\n",
        "            if line[21:27].strip() != prev:\n",
        "                res.append(letters[line[17:20]])\n",
        "            prev = line[21:27].strip()\n",
        "    return ''.join(res)\n",
        "\n",
        "def pdb2mol(in_path,file,out_path):\n",
        "    pocket = \"obabel -ipdb {} -omol2 -O {}\".format(os.path.join(in_path,file+'_pocket.pdb'),os.path.join(out_path,file+'_pocket.mol2'))\n",
        "    os.system(pocket)\n",
        "\n",
        "def sentence2vec(sentence, model, unseen=None):\n",
        "    keys = set(model.wv.key_to_index.keys())\n",
        "    if unseen:\n",
        "        unseen_vec = model.wv.word_vec(unseen)\n",
        "        res = sum([model.wv.word_vec(y) if y in set(sentence) & keys else unseen_vec for y in sentence])\n",
        "    else:\n",
        "        res = sum([model.wv.word_vec(y) for y in sentence if y in set(sentence) & keys])\n",
        "    return res\n",
        "\n",
        "def smi2vec(smi, model):\n",
        "    mol = Chem.MolFromSmiles(smi)\n",
        "    sentence = MolSentence(mol2alt_sentence(mol, 1))\n",
        "    mol_vec = sentence2vec(sentence, model, unseen='UNK')\n",
        "    return mol_vec\n",
        "\n",
        "def get_amino_vecs(model):\n",
        "    amino_smi = {\n",
        "        'A': 'CC(N)C(=O)O',\n",
        "        'R': 'N=C(N)NCCCC(N)C(=O)O',\n",
        "        'N': 'NC(=O)CC(N)C(=O)O',\n",
        "        'D': 'NC(CC(=O)O)C(=O)O',\n",
        "        'C': 'NC(CS)C(=O)O',\n",
        "        'E': 'NC(CCC(=O)O)C(=O)O',\n",
        "        'Q': 'NC(=O)CCC(N)C(=O)O',\n",
        "        'G': 'NCC(=O)O',\n",
        "        'H': 'NC(Cc1cnc[nH]1)C(=O)O',\n",
        "        'I': 'CCC(C)C(N)C(=O)O',\n",
        "        'L': 'CC(C)CC(N)C(=O)O',\n",
        "        'K': 'NCCCCC(N)C(=O)O',\n",
        "        'M': 'CSCCC(N)C(=O)O',\n",
        "        'F': 'NC(Cc1ccccc1)C(=O)O',\n",
        "        'P': 'O=C(O)C1CCCN1',\n",
        "        'S': 'NC(CO)C(=O)O',\n",
        "        'T': 'CC(O)C(N)C(=O)O',\n",
        "        'W': 'NC(Cc1c[nH]c2ccccc12)C(=O)O',\n",
        "        'Y': 'NC(Cc1ccc(O)cc1)C(=O)O',\n",
        "        'V': 'CC(C)C(N)C(=O)O'\n",
        "    }\n",
        "    amino_vec = {}\n",
        "    for amino in amino_smi:\n",
        "        amino_vec[amino] = smi2vec(amino_smi[amino], model)\n",
        "    return pd.DataFrame(amino_vec).T\n",
        "\n",
        "def seq2vec(seq, amino_vecs):\n",
        "    vecs = np.array(amino_vecs.loc[list(seq)])\n",
        "    return np.mean(vecs, axis=0)\n"
      ]
    },
    {
      "cell_type": "code",
      "execution_count": null,
      "metadata": {
        "id": "W9PdaE9kgn_x"
      },
      "outputs": [],
      "source": [
        "\n",
        "def extract_data(fpath,x):\n",
        "    ligands = json.load(open(fpath+\"ligands_can.txt\"), object_pairs_hook=OrderedDict)\n",
        "    proteins = json.load(open(fpath+\"proteins.txt\"), object_pairs_hook=OrderedDict)\n",
        "    Y = pickle.load(open(fpath + \"Y\",\"rb\"), encoding='latin1') ### TODO: read from raw\n",
        "    print(os.path.basename(fpath).lower())\n",
        "\n",
        "    if x == 'davis':\n",
        "        Y = -(np.log10(Y/(math.pow(10,9))))\n",
        "        uni_data = pd.read_csv(fpath+'uniprot_gi_map_cleaned.csv')\n",
        "        uni_id = [str(row['uniprot']) for idx,row in uni_data.iterrows()]\n",
        "        pocket_failed = [str(row['pocket structure']) for idx,row in uni_data.iterrows()]\n",
        "    print(pocket_failed[0:10])\n",
        "    compounds,protein_seq,y = [],[],[]\n",
        "    pro_id,com_id = [],[]\n",
        "    for d_idx,(drug,smile) in enumerate(ligands.items()):\n",
        "        for p_idx,(protein,fasta) in enumerate(proteins.items()):\n",
        "            if math.isnan(Y[d_idx][p_idx]):\n",
        "                continue\n",
        "            if x == 'davis':\n",
        "                if uni_id[p_idx] == 'nan' or pocket_failed[p_idx] == 'FALSE':\n",
        "                    print(' null ')\n",
        "                    continue\n",
        "                pro_id.append(uni_id[p_idx])\n",
        "            else:\n",
        "                pro_id.append(protein)\n",
        "\n",
        "            compounds.append(smile)\n",
        "            protein_seq.append(fasta)\n",
        "            y.append(Y[d_idx][p_idx])\n",
        "            com_id.append(drug)\n",
        "\n",
        "\n",
        "    if x == 'kiba':\n",
        "        y = [-i for i in y]\n",
        "        min_val = min(y)\n",
        "        y= [ i-min_val for i in y]\n",
        "\n",
        "    return compounds,protein_seq,y,pro_id,com_id\n"
      ]
    },
    {
      "cell_type": "code",
      "execution_count": null,
      "metadata": {
        "id": "c3NyxJPtgn_x"
      },
      "outputs": [],
      "source": [
        "\n",
        "def extract_pocket(dataset,deeppocket_path):\n",
        "    # err_id = set()\n",
        "    # data_path = os.path.join(os.path.dirname(code_dir),dataset,'protein')\n",
        "    cnt = 0\n",
        "    code_dir = os.getcwd()\n",
        "    data_path = \"{}/{}/{}\".format(os.path.dirname(code_dir),'datasets',dataset)\n",
        "    pdb_list = os.listdir(os.path.join(data_path,'protein'))\n",
        "\n",
        "    if not os.path.exists(os.path.join(data_path,'pocket')):\n",
        "        os.mkdir(os.path.join(data_path,'pocket'))\n",
        "\n",
        "    os.chdir(deeppocket_path)\n",
        "    print(pdb_list)\n",
        "    for pdb in pdb_list:\n",
        "        uniprot_id = pdb.split('.')[0]\n",
        "        predict_command = \"python predict.py -p {} -c first_model_fold1_best_test_auc_85001.pth.tar -s seg0_best_test_IOU_91.pth.tar\".format(os.path.join(data_path,'protein',pdb))\n",
        "        i = os.system(predict_command)\n",
        "        print(i)\n",
        "\n",
        "        if not os.path.exists(os.path.join(data_path,'protein',uniprot_id+'_nowat_pocket1.pdb')):\n",
        "            # err_id.add(uniprot_id)\n",
        "            print('pocket prediction faild in '+uniprot_id)\n",
        "            continue\n",
        "\n",
        "        os.rename(os.path.join(data_path,'protein',uniprot_id+'_nowat_pocket1.pdb'),os.path.join(data_path,'protein',uniprot_id+'_pocket.pdb'))\n",
        "        shutil.move(os.path.join(data_path,'protein',uniprot_id+'_pocket.pdb'),os.path.join(data_path,'pocket',uniprot_id+'_pocket.pdb'))\n",
        "        for i in ['_nowat_1.dx','_nowat.gninatypes','_nowat.pdb']:\n",
        "            file = \"{}/{}{}\".format(os.path.join(data_path,'protein'),uniprot_id,i)\n",
        "            os.remove(file)\n",
        "        nowat_dir=\"{}/{}{}\".format(os.path.join(data_path,'protein'),uniprot_id,'_nowat_out')\n",
        "        shutil.rmtree(nowat_dir)\n",
        "\n",
        "    os.chdir(code_dir)\n",
        "    # return err_id"
      ]
    },
    {
      "cell_type": "markdown",
      "metadata": {
        "id": "HYCsWIgCgn_y"
      },
      "source": [
        "# prepare dataset"
      ]
    },
    {
      "cell_type": "code",
      "execution_count": null,
      "metadata": {
        "id": "6_hlxA_-gn_0"
      },
      "outputs": [],
      "source": [
        "path = '../datasets'\n",
        "datasets = ['PDBbind','kiba','davis']\n",
        "#select dataset default value: PDBbind\n",
        "x=datasets[0]\n"
      ]
    },
    {
      "cell_type": "code",
      "execution_count": null,
      "metadata": {
        "id": "XGi3NDpHgn_0"
      },
      "outputs": [],
      "source": [
        "if x == 'PDBbind':\n",
        "    #extract pocket sequence\n",
        "    protein_seq = {}\n",
        "    pocket_seq = {}\n",
        "    for pdb_path in ['../datasets/PDBbind/refined-set', '../datasets/PDBbind/general-set']:\n",
        "        for name in os.listdir(pdb_path):\n",
        "            if name in ['index', 'readme']:\n",
        "                continue\n",
        "            protein_pdbfile = os.path.join(pdb_path, name, name + '_protein.pdb')\n",
        "            pocket_pdbfile = os.path.join(pdb_path, name, name + '_pocket.pdb')\n",
        "\n",
        "            protein_seq[name] = pdb2seq(protein_pdbfile)\n",
        "            pocket_seq[name] = pdb2seq(pocket_pdbfile)\n",
        "\n",
        "    data = pd.read_excel('../datasets/PDBbind/general_data.xlsx', skiprows=1)\n",
        "    data = data[~(data['Resolution']==\"NMR\")&~(data['Ligand Name'].str.contains(\"-mer\"))]\n",
        "    data['protein_seq'] = data['PDB code'].apply(lambda x : protein_seq[x])\n",
        "    data['pocket_seq'] = data['PDB code'].apply(lambda x : pocket_seq[x])\n",
        "    data = data[['PDB code', 'Canonical SMILES', 'protein_seq', 'pocket_seq', 'pKd pKi pIC50']]\n",
        "    data.rename(columns={'PDB code':'protein_id', 'Canonical SMILES':'compound', 'pKd pKi pIC50':'label'},inplace=True)\n",
        "    cols = list(data)\n",
        "    cols.insert(3,cols.pop(cols.index('compound')))\n",
        "\n",
        "else:\n",
        "    data = pd.DataFrame()\n",
        "    pocket_seq = {}\n",
        "    fpath = \"../datasets/{}/\".format(x)\n",
        "\n",
        "    compounds,protein_seq,label,pdb_id,compound_id = extract_data(fpath,x)\n",
        "    #extract pocket\n",
        "    pocket_failed_set = extract_pocket(x,'./DeepPocket-main/')\n",
        "    print(pocket_failed_set)\n",
        "\n",
        "    for name in os.listdir(os.path.join(fpath,'pocket')):\n",
        "        pocket_pdbfile = os.path.join(fpath, 'pocket', name)\n",
        "        pocket_seq[name] = pdb2seq(pocket_pdbfile)\n",
        "\n",
        "    data['protein_id'] = pdb_id\n",
        "    data['compound_id'] = compound_id\n",
        "    data['protein_seq'] = protein_seq\n",
        "    data['pocket_seq'] = data['protein_id'].apply(lambda x : pocket_seq[x])\n",
        "    data['compound'] = compounds\n",
        "    data['label'] = label\n",
        "\n",
        "\n",
        "for idx, row in data.iterrows():\n",
        "    code = row['protein_id']\n",
        "    if len(row['pocket_seq']) <= 30:\n",
        "        # short_set.add(code)\n",
        "        data.loc[idx,\"drop\"] = 'NA'\n",
        "        continue\n",
        "# print(short_set)\n",
        "\n",
        "data = data.dropna()\n",
        "data.to_csv(\"{}/{}_input_data.csv\".format(path,x), index=None, sep=',')\n"
      ]
    },
    {
      "cell_type": "markdown",
      "metadata": {
        "id": "Asillkzugn_1"
      },
      "source": [
        "# prepare smi2vec vec\n"
      ]
    },
    {
      "cell_type": "code",
      "execution_count": null,
      "metadata": {
        "id": "cq_whI-dgn_2"
      },
      "outputs": [],
      "source": [
        "model = word2vec.Word2Vec.load('mol2vec_300dim.pkl')\n",
        "amino_vecs_pd = get_amino_vecs(model)\n",
        "\n",
        "com_vec_pd = pd.DataFrame()\n",
        "com_vec_pd['vec'] = data['compound'].apply(lambda smi: smi2vec(smi, model))\n",
        "compound_vector = np.array([vec for vec in com_vec_pd['vec']])\n",
        "\n",
        "poc_vec_pd = pd.DataFrame()\n",
        "poc_vec_pd['vec'] = data['pocket_seq'].apply(lambda seq: seq2vec(seq, amino_vecs_pd))\n",
        "pocket_vector = np.array([vec for vec in poc_vec_pd['vec']])"
      ]
    },
    {
      "cell_type": "markdown",
      "metadata": {
        "id": "iivtktPogn_3"
      },
      "source": [
        "# prepare graph2vec"
      ]
    },
    {
      "cell_type": "code",
      "execution_count": null,
      "metadata": {
        "id": "WCVZruHNgn_3"
      },
      "outputs": [],
      "source": [
        "dataset_path = \"../datasets/{}\".format(x)\n",
        "mol2_path = [\"{}/{}/{}-set\".format(dataset_path,'mol2','general'),\"{}/{}\".format(dataset_path,'pocket')]\n",
        "graph_path = \"{}/{}/{}\".format(dataset_path,'graph','pocket')\n",
        "graph_csv = \"{}/{}\".format(dataset_path,'pocket_graph.csv')"
      ]
    },
    {
      "cell_type": "code",
      "execution_count": null,
      "metadata": {
        "id": "0C5v6FQIgn_3"
      },
      "outputs": [],
      "source": [
        "for idx, row in data.iterrows():\n",
        "    if x == 'PDBbind':\n",
        "        code = row['protein_id']\n",
        "        set = 'general'\n",
        "        if not os.path.exists(os.path.join(dataset_path,'general-set',code)):\n",
        "            set = 'refined'\n",
        "        in_path = \"{}/{}-set/{}\".format(dataset_path,set,code)\n",
        "        out_path = \"{}/{}/{}-set\".format(dataset_path,'mol2',set)\n",
        "\n",
        "    else:\n",
        "        in_path = \"{}/{}\".format(dataset_path,'pocket')\n",
        "        out_path = \"{}/{}\".format(dataset_path,'mol2')\n",
        "    if not os.path.exists(out_path):\n",
        "        os.makedirs(out_path)\n",
        "    pdb2mol(in_path,code,out_path)"
      ]
    },
    {
      "cell_type": "code",
      "execution_count": null,
      "metadata": {
        "id": "JQfNSKf8gn_4"
      },
      "outputs": [],
      "source": [
        "mg.main(mol2_path[0],graph_path,\"aa\",False)\n",
        "g2v_command = \"python graph2vec.py --input-path {} --output-path {}\".format(graph_path,graph_csv)\n",
        "os.system(g2v_command)"
      ]
    },
    {
      "cell_type": "code",
      "execution_count": null,
      "metadata": {
        "id": "jI9LvtnAgn_4"
      },
      "outputs": [],
      "source": [
        "pdb_id = list(data['protein_id'])\n",
        "graph_data = pd.read_csv(graph_csv)\n",
        "graph_dict = {}\n",
        "\n",
        "if x == 'PDBbind':\n",
        "    graph_dict = {str(row['type']).split('_')[0]:row[1:] for idx,row in graph_data.iterrows()}\n",
        "\n",
        "    graph_data_new = pd.DataFrame.from_dict(graph_dict,orient='index')\n",
        "    graph_data_new.reset_index(inplace=True)\n",
        "    graph_data_new.rename(columns={\"index\":\"type\"},inplace=True)\n",
        "else:\n",
        "    pdb_name = str(row['type']).split('_')[0]\n",
        "    graph_dict[pdb_name] = row[1:].to_list()\n",
        "\n",
        "graph_vec = np.array([graph_dict[i].tolist() for i in pdb_id if i in graph_dict.keys()])"
      ]
    },
    {
      "cell_type": "markdown",
      "metadata": {
        "id": "C3ZDWoZhgn_4"
      },
      "source": [
        "# prepare protr"
      ]
    },
    {
      "cell_type": "code",
      "execution_count": null,
      "metadata": {
        "id": "KYPz5e-egn_4"
      },
      "outputs": [],
      "source": [
        "protr =\"Rscript protor.r {} {}\".format('~/StackCPA/datasets/PDBbind_input_data.csv','~/StackCPA/datasets/PDBbind_input_protr.csv')\n",
        "os.system(protr)"
      ]
    },
    {
      "cell_type": "code",
      "execution_count": null,
      "metadata": {
        "id": "HWxKLLJNgn_4"
      },
      "outputs": [],
      "source": [
        "protr_vec = pd.read_csv('../datasets/{}_input_protr.csv'.format(x),skiprows=0,sep=',')\n",
        "protr_vec = protr_vec.iloc[:,1:]\n",
        "protr_vec = [row.tolist() for idx,row in protr_vec.iterrows()]\n",
        "protr_vector = np.array(protr_vec)\n",
        "protr_vector.shape"
      ]
    },
    {
      "cell_type": "code",
      "execution_count": null,
      "metadata": {
        "id": "aXxP1Qzqgn_4"
      },
      "outputs": [],
      "source": [
        "X_poc = np.hstack((compound_vector, pocket_vector,graph_vec,protr_vector))\n",
        "y = np.array([x for x in data['label']])\n",
        "\n",
        "np.save('../data/X.npy', X_poc)\n",
        "np.save('../data/y.npy', y)\n",
        "\n",
        "X_poc.shape, y.shape"
      ]
    }
  ],
  "metadata": {
    "kernelspec": {
      "display_name": "Python 3.7.11 ('lab')",
      "language": "python",
      "name": "python3"
    },
    "language_info": {
      "codemirror_mode": {
        "name": "ipython",
        "version": 3
      },
      "file_extension": ".py",
      "mimetype": "text/x-python",
      "name": "python",
      "nbconvert_exporter": "python",
      "pygments_lexer": "ipython3",
      "version": "3.7.11"
    },
    "orig_nbformat": 4,
    "vscode": {
      "interpreter": {
        "hash": "ccafa4d48fc79d2b8e17cdd6724d147a7e5dbdb2cd944b272ecdc3b4ad23042d"
      }
    },
    "colab": {
      "provenance": []
    }
  },
  "nbformat": 4,
  "nbformat_minor": 0
}